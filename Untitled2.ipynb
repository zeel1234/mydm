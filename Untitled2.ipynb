{
 "cells": [
  {
   "cell_type": "code",
   "execution_count": 15,
   "metadata": {},
   "outputs": [],
   "source": [
    "\n",
    "import pandas as pd\n",
    "import numpy as np\n",
    "import seaborn as sns\n",
    "import matplotlib.pyplot as plt"
   ]
  },
  {
   "cell_type": "code",
   "execution_count": 16,
   "metadata": {},
   "outputs": [
    {
     "name": "stdout",
     "output_type": "stream",
     "text": [
      "[4, 55, 21, 33, 5, 92, 33, 5, 91, 33, 9, 29, 99, 105, 39, 45, 6, 62, 65, 25, 10, 73, 85, 11, 79, 20, 56, 45, 21, 8, 65, 70, 30]\n",
      "AFTER SORT: [4, 5, 5, 6, 8, 9, 10, 11, 20, 21, 21, 25, 29, 30, 33, 33, 33, 39, 45, 45, 55, 56, 62, 65, 65, 70, 73, 79, 85, 91, 92, 99, 105]\n"
     ]
    }
   ],
   "source": [
    "df = [4,55,21,33,5,92,33,5,91,33,9,29,99,105,39,45,6,62,65,25,10,73,85,11,79,20,56,45,21,8,65,70,30]\n",
    "print(df);\n",
    "df.sort();\n",
    "print(\"AFTER SORT:\",df);"
   ]
  },
  {
   "cell_type": "code",
   "execution_count": 17,
   "metadata": {},
   "outputs": [
    {
     "data": {
      "image/png": "[encoded data removed]",
      "text/plain": [
       "<Figure size 432x288 with 1 Axes>"
      ]
     },
     "metadata": {
      "needs_background": "light"
     },
     "output_type": "display_data"
    }
   ],
   "source": [
    "sns.boxplot(data=df,color='y')\n",
    "sns.swarmplot(data=df,color='b');\n"
   ]
  },
  {
   "cell_type": "code",
   "execution_count": 21,
   "metadata": {},
   "outputs": [
    {
     "name": "stdout",
     "output_type": "stream",
     "text": [
      "MINIMUM IS : 4\n",
      "MAXIMUM IS : 105\n",
      "Q1 IS: 20.0\n",
      "Q2 IS: 33.0\n",
      "Q3 IS: 65.0\n"
     ]
    },
    {
     "data": {
      "image/png": "[encoded data removed]",
      "text/plain": [
       "<Figure size 432x288 with 1 Axes>"
      ]
     },
     "metadata": {
      "needs_background": "light"
     },
     "output_type": "display_data"
    }
   ],
   "source": [
    "sns.boxplot(data=df)\n",
    "print(\"MINIMUM IS :\",min(df));\n",
    "print(\"MAXIMUM IS :\",max(df));\n",
    "df.sort();\n",
    "print(\"Q1 IS:\",np.percentile(df,25));\n",
    "print(\"Q2 IS:\",np.percentile(df,50));\n",
    "print(\"Q3 IS:\",np.percentile(df,75));\n"
   ]
  },
  {
   "cell_type": "code",
   "execution_count": null,
   "metadata": {},
   "outputs": [],
   "source": []
  }
 ],
 "metadata": {
  "kernelspec": {
   "display_name": "Python 3",
   "language": "python",
   "name": "python3"
  },
  "language_info": {
   "codemirror_mode": {
    "name": "ipython",
    "version": 3
   },
   "file_extension": ".py",
   "mimetype": "text/x-python",
   "name": "python",
   "nbconvert_exporter": "python",
   "pygments_lexer": "ipython3",
   "version": "3.7.1"
  }
 },
 "nbformat": 4,
 "nbformat_minor": 2
}
